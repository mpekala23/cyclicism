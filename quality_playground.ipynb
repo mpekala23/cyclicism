{
 "cells": [
  {
   "cell_type": "markdown",
   "metadata": {},
   "source": [
    "# What is this playground for?\n",
    "\n",
    "I've got a solid amount of data (5 years) and want to start seeing what kind of results are returned by the api as is. If it looks _kino_ then I'll move on to try and deploy a super basic version, send it to my friends to look at, polish, then hackernews the shit out of it!"
   ]
  },
  {
   "cell_type": "code",
   "execution_count": 19,
   "metadata": {},
   "outputs": [],
   "source": [
    "from datetime import datetime, timedelta\n",
    "from dateutil.relativedelta import relativedelta\n",
    "import os\n",
    "from dotenv import load_dotenv\n",
    "from pynytimes import NYTAPI\n",
    "from annoy import AnnoyIndex\n",
    "from tqdm import tqdm\n",
    "from util import month_to_str, str_to_month\n",
    "from gen import EMBED_LENGTH, get_vec\n",
    "from schema import DBManager\n",
    "\n",
    "load_dotenv()\n",
    "\n",
    "API_KEY = os.getenv(\"NYT_KEY\") or \"\"\n",
    "nyt = NYTAPI(API_KEY, parse_dates=True)"
   ]
  },
  {
   "cell_type": "code",
   "execution_count": 20,
   "metadata": {},
   "outputs": [],
   "source": [
    "# Get the top stories to test on\n",
    "top_stories = nyt.top_stories()"
   ]
  },
  {
   "cell_type": "code",
   "execution_count": 32,
   "metadata": {},
   "outputs": [],
   "source": [
    "# Get all of the annoy indexes into memory\n",
    "start_date = datetime(2001, 1, 1)\n",
    "end_date = datetime(2001, 11, 31)\n",
    "\n",
    "month_to_hix = {}\n",
    "date = start_date\n",
    "while date < end_date:\n",
    "    mstr = month_to_str(date)\n",
    "    ix_file = f\"models/head/h_{mstr}.ann\"\n",
    "    aix = AnnoyIndex(EMBED_LENGTH, \"angular\")\n",
    "    aix.load(ix_file)\n",
    "    month_to_hix[mstr] = aix\n",
    "    date += relativedelta(months=1)\n"
   ]
  },
  {
   "cell_type": "code",
   "execution_count": 33,
   "metadata": {},
   "outputs": [],
   "source": [
    "# Prep the metadata database for querying\n",
    "dbman = DBManager(\"meta.db\")"
   ]
  },
  {
   "cell_type": "code",
   "execution_count": 34,
   "metadata": {},
   "outputs": [
    {
     "name": "stdout",
     "output_type": "stream",
     "text": [
      "------------------------------------------------\n",
      "The Latest Artillery in the War Against the Flu Virus\n",
      "HEALTH officials strongly urge -- even at this late date -- that people get flu shots, especially those 65 and older or those with weakened immune systems and chronic ailments like heart disease, kidney disease and severe asthma.\n",
      "------------------------------------------------\n",
      "Cancer Drug Developer Gets Partners\n",
      "Genentech Inc. and Roche Holding have won a bidding contest for the rights to a promising cancer drug from its developer, a small Long Island biotechnology company, the three companies announced today.\n",
      "------------------------------------------------\n",
      "Sex and Power vs. Law and Order; Abuse Charges Against Police Underscore a Historic Tension\n",
      "It usually happens on the midnight tour, the petri dish of police misbehavior.\n",
      "------------------------------------------------\n",
      "In Letter to Bush, Putin Urges Wider U.S.-Russian Cooperation\n",
      "President Vladimir V. Putin sent a letter to President Bush this week proposing broader Russian-American cooperation and setting out the major issues on which he believes the two countries can cooperate, the Kremlin's news service said today.\n",
      "------------------------------------------------\n",
      "Our Fragile Ecosystems\n",
      "To the Editor:\n",
      "------------------------------------------------\n",
      "Compromise Plan Is Urged in Energy Talks\n",
      "Clinton administration officials pressed politicians, utilities and energy providers today to agree on a compromise plan to end the electricity crisis that has left California, the nation's most populous and richest state, on the brink of darkness.\n",
      "------------------------------------------------\n",
      "A Revolt Over Bookshelves and Bedroom Sets; In New Rochelle, Ikea Finds Itself in a Fight With Sophisticated and Highly Organized Opponents\n",
      "AT first it seemed like a perfect match: Ikea, the Swedish furniture company, wanted a store in the northern suburbs and this struggling city wanted sales tax revenue. A 16-acre semi-industrial flatland, battered by age and highway noise, looked like an easy choice.\n",
      "------------------------------------------------\n",
      "Under the Heart of Cities, A Failure of Modernism\n",
      "There is very little seductive about the place described in ''The Seduction of Place.'' For Joseph Rykwert, a historian of architecture and an emeritus professor at the University of Pennsylvania, that place -- the city in the 21st century -- is not an alluring habitat. Mr. Rykwert insists that as he surveys urban landscapes ranging from Mexico City to Kuala Lumpur, he wants to ''show that the city is a precious, essential and inalienable part of the human achievement.''\n",
      "------------------------------------------------\n",
      "Mexican Ruling May Let Spain Try Argentine\n",
      "In a decision that could change international law, a federal judge ruled today that Mexico can extradite a former Argentine navy officer to Spain to face charges of human rights abuses against Spaniards under Argentina's military dictatorship two decades ago.\n",
      "------------------------------------------------\n",
      "A Geographical Slip\n",
      "To the Editor:\n",
      "------------------------------------------------\n",
      "EDSTROM, BAUSCH & LOMB EXECUTIVE, RESIGNS\n",
      "Bausch & Lomb said that Hakan Edstrom, who oversaw the company's contact lens, lens-care products, surgical and other businesses in North and South America, had resigned to pursue other opportunities. Bausch & Lomb, a leading maker of contact lenses, said earlier this month that fourth-quarter profit would fall short of Wall Street's expectations because of slowing demand for a vision-correction laser surgery procedure known as Lasik. The company said Mr. Edstrom, who was president of the Americas division, would pursue other career opportunities and declined to comment further. Shares of Bausch & Lomb, which is based in Rochester, fell 80 cents, to $45.08. Last week, Bausch & Lomb said profit from operations in the fourth quarter fell to $37.4 million, or 70 cents a share, from $51.4 million, or 88 cents a share, in the quarter a year earlier as demand slowed for lens-care products and laser-surgery equipment.\n",
      "------------------------------------------------\n",
      "Debating Maazel's Musical Identity: Is It American or European?\n",
      "The appointment of Lorin Maazel as the next music director of the New York Philharmonic has been interpreted with all the variations of a Rorschach test by musicians, composers, musicologists and others pondering the future of the American symphony orchestra in the 21st century.\n",
      "------------------------------------------------\n",
      "Sports of The Times; As a One-Man Team, Bryant Won't Fly\n",
      "WINDMILL dunk today?''\n",
      "------------------------------------------------\n",
      "CALENDER\n",
      "Tasting Menu for Highfliers\n",
      "------------------------------------------------\n",
      "The New York Times: Five Years on the Web\n",
      "Five years ago, The New York Times announced its arrival on the Internet. \"Our site is designed to take full advantage of the evolving capabilities offered by the Internet. At the same time, we see our role on the Web as being similar to our traditional, print role -- to act as a thoughtful, unbiased filter and to provide to our customers information they need and can trust,\" said Arthur Sulzberger, Jr., publisher of The New York Times. The site looks quite a bit different than it did in five years ago, but its aspirations are largely the same: to be the best news and information site on the Internet. With that in mind, Bernard Gwertzman, editor of The New York Times on the Web, and Martin Nisenholtz, chief executive officer of New York Times Digital, sat down to discuss their five years on the Web, the state of Internet journalism today, and what we can expect in years to come. The discussion was moderated by Bill Goldstein, the Books Editor of NYTimes.com.\n",
      "------------------------------------------------\n",
      "Brioche Loaves\n",
      " Time: 2 hours plus overnight chilling \n",
      "------------------------------------------------\n",
      "Excerpts From the Interview With President-Elect George W. Bush\n",
      "Excerpts from a 75-minute interview with President-elect George W. Bush at his ranch in Crawford, Tex., on Friday.\n",
      "------------------------------------------------\n",
      "A World Court That Could Backfire\n",
      "Since last August I have been working at a research institute in Berlin. The institute is located in one of the richest parts of the city, Grunewald, which was home to many Jews before the Second World War. Walther Rathenau, the foreign minister of the Weimar Republic and a leading Jewish industrialist, was assassinated in a place that is two minutes away from my office. I know because there is a small memorial there. The closest rapid transit station to me was the major point of embarkation to the concentration camps for Berlin's Jews. There is a memorial there, too.\n",
      "------------------------------------------------\n",
      "Israelis and Palestinians to Begin High-Level Talks in Egypt Today\n",
      "Israel and the Palestinians are set to begin intensive, high-level peace negotiations on Sunday evening in the Egyptian resort town of Taba, both sides announced tonight.\n",
      "------------------------------------------------\n",
      "Sports of The Times; As a One-Man Team, Bryant Won't Fly\n",
      "WINDMILL dunk today?''\n",
      "------------------------------------------------\n",
      "Levy Hires Dismissed Chief Of Yonkers School System\n",
      "Andre J. Hornsby, who was fired after a stormy tenure as the superintendent of the Yonkers public schools, has been hired by the New York City schools chancellor, Harold O. Levy, as a supervising superintendent.\n",
      "------------------------------------------------\n",
      "Tel Aviv Journal; New Conflict Begets Culture War by Israeli Artists\n",
      "Far from the Israeli-Palestinian conflict is the artwork of the Israeli-Palestinian conflict. And far from the checkpoint closings imposed by Israel are the exhibit openings imposed by artists who shun khaki for leather and guns for glue sticks.\n",
      "------------------------------------------------\n",
      "Much-Touted Dollar Coin Is Not Getting Much Face Time\n",
      "ON Dec. 29, the United States Mint announced that the new gold-colored dollar coin featuring Sacagawea, the Shoshone Indian woman who helped Lewis and Clark across the plains, was ''the most successful dollar coin in history.''\n",
      "------------------------------------------------\n",
      "Democrats Facing Difficult Choices in New Congress\n",
      " WASHINGTON, Jan. 14 — Congressional Democrats enter a new political era this week, wrestling with an angry and energized liberal wing, and facing difficult and party- defining decisions over when to cooperate with George W. Bush and when to fight his most far-reaching proposals. \n",
      "------------------------------------------------\n",
      "Bringing an Eccentric Old Friend Back for an Encore\n",
      "The old man, 90, is dirty, disheveled and -- let's face it -- decrepit. He looks alarmingly breakable as he shuffles, stiff-legged, through his dust-clotted apartment. And he would seem to be uttering a perfectly self-evident truth when he says, as he considers the bone-splintering menace of the icy sidewalks outside, ''I am no longer renewable.''\n"
     ]
    }
   ],
   "source": [
    "for story in top_stories:\n",
    "    title = story[\"title\"]\n",
    "    min_ix = -1\n",
    "    min_date = \"\"\n",
    "    min_dist = float(\"inf\")\n",
    "    for date, hix in month_to_hix.items():\n",
    "        # Get the top 10 results\n",
    "        emb = get_vec(title)\n",
    "        ixs, dists = hix.get_nns_by_vector(emb, 10, include_distances=True)\n",
    "        for ix, dist in zip(ixs, dists):\n",
    "            if dist > min_dist:\n",
    "                continue\n",
    "            min_ix = ix\n",
    "            min_date = date\n",
    "            min_dist = dist\n",
    "    article = dbman.get_article_by_month_and_ix(min_date, min_ix)\n",
    "    if article is None:\n",
    "        print(\"WHAT! No results\")\n",
    "        continue\n",
    "    print(\"------------------------------------------------\")\n",
    "    print(article.headline)\n",
    "    print(article.lead_paragraph)\n",
    "            "
   ]
  },
  {
   "cell_type": "code",
   "execution_count": null,
   "metadata": {},
   "outputs": [],
   "source": []
  }
 ],
 "metadata": {
  "kernelspec": {
   "display_name": "venv",
   "language": "python",
   "name": "python3"
  },
  "language_info": {
   "codemirror_mode": {
    "name": "ipython",
    "version": 3
   },
   "file_extension": ".py",
   "mimetype": "text/x-python",
   "name": "python",
   "nbconvert_exporter": "python",
   "pygments_lexer": "ipython3",
   "version": "3.11.3"
  },
  "orig_nbformat": 4
 },
 "nbformat": 4,
 "nbformat_minor": 2
}
